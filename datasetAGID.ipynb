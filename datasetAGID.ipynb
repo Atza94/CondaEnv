{
 "cells": [
  {
   "cell_type": "markdown",
   "id": "fd591f03",
   "metadata": {},
   "source": [
    "# Pubblica amministrazione digitale\n",
    "## Fonte: https://www.dati.gov.it/"
   ]
  },
  {
   "cell_type": "code",
   "execution_count": 2,
   "id": "55a0303e",
   "metadata": {},
   "outputs": [],
   "source": [
    "#Importare moduli\n",
    "import numpy as np\n",
    "import pandas as pd\n",
    "import matplotlib.pyplot as plt\n",
    "import warnings\n",
    "warnings.filterwarnings('ignore')"
   ]
  },
  {
   "cell_type": "code",
   "execution_count": 3,
   "id": "8c4d3b98",
   "metadata": {},
   "outputs": [],
   "source": [
    "#Salva percorso csv pulito\n",
    "path = \"./datasets/monitoraggio.CSV\""
   ]
  },
  {
   "cell_type": "code",
   "execution_count": 4,
   "id": "1407b99f",
   "metadata": {},
   "outputs": [],
   "source": [
    "#leggi csv per valutare output e preparare dataframe\n",
    "dati = pd.read_csv(path, delimiter=\";\", encoding=\"latin-1\")\n"
   ]
  },
  {
   "cell_type": "code",
   "execution_count": 5,
   "id": "fe3c736b",
   "metadata": {},
   "outputs": [
    {
     "data": {
      "text/plain": [
       "Index(['tipologia_ente', 'regione', 'num_siti', 'data_monitoraggio'], dtype='object')"
      ]
     },
     "execution_count": 5,
     "metadata": {},
     "output_type": "execute_result"
    }
   ],
   "source": [
    "dati.columns"
   ]
  },
  {
   "cell_type": "code",
   "execution_count": 6,
   "id": "ea4c2d18",
   "metadata": {},
   "outputs": [
    {
     "data": {
      "text/html": [
       "<div>\n",
       "<style scoped>\n",
       "    .dataframe tbody tr th:only-of-type {\n",
       "        vertical-align: middle;\n",
       "    }\n",
       "\n",
       "    .dataframe tbody tr th {\n",
       "        vertical-align: top;\n",
       "    }\n",
       "\n",
       "    .dataframe thead th {\n",
       "        text-align: right;\n",
       "    }\n",
       "</style>\n",
       "<table border=\"1\" class=\"dataframe\">\n",
       "  <thead>\n",
       "    <tr style=\"text-align: right;\">\n",
       "      <th></th>\n",
       "      <th>tipologia_ente</th>\n",
       "      <th>regione</th>\n",
       "      <th>num_siti</th>\n",
       "      <th>data_monitoraggio</th>\n",
       "    </tr>\n",
       "  </thead>\n",
       "  <tbody>\n",
       "    <tr>\n",
       "      <th>0</th>\n",
       "      <td>Istituti di Istruzione Statale di Ogni Ordine ...</td>\n",
       "      <td>Valle d'Aosta/Vallée d'Aoste</td>\n",
       "      <td>31</td>\n",
       "      <td>30/06/2023</td>\n",
       "    </tr>\n",
       "    <tr>\n",
       "      <th>1</th>\n",
       "      <td>Comuni e loro Consorzi e Associazioni</td>\n",
       "      <td>Valle d'Aosta/Vallée d'Aoste</td>\n",
       "      <td>65</td>\n",
       "      <td>30/06/2023</td>\n",
       "    </tr>\n",
       "    <tr>\n",
       "      <th>2</th>\n",
       "      <td>Comuni e loro Consorzi e Associazioni</td>\n",
       "      <td>Liguria</td>\n",
       "      <td>207</td>\n",
       "      <td>30/06/2023</td>\n",
       "    </tr>\n",
       "    <tr>\n",
       "      <th>3</th>\n",
       "      <td>Altre tipologie di Enti</td>\n",
       "      <td>Friuli-Venezia Giulia</td>\n",
       "      <td>171</td>\n",
       "      <td>30/06/2023</td>\n",
       "    </tr>\n",
       "  </tbody>\n",
       "</table>\n",
       "</div>"
      ],
      "text/plain": [
       "                                      tipologia_ente  \\\n",
       "0  Istituti di Istruzione Statale di Ogni Ordine ...   \n",
       "1              Comuni e loro Consorzi e Associazioni   \n",
       "2              Comuni e loro Consorzi e Associazioni   \n",
       "3                            Altre tipologie di Enti   \n",
       "\n",
       "                        regione  num_siti data_monitoraggio  \n",
       "0  Valle d'Aosta/Vallée d'Aoste        31        30/06/2023  \n",
       "1  Valle d'Aosta/Vallée d'Aoste        65        30/06/2023  \n",
       "2                       Liguria       207        30/06/2023  \n",
       "3         Friuli-Venezia Giulia       171        30/06/2023  "
      ]
     },
     "execution_count": 6,
     "metadata": {},
     "output_type": "execute_result"
    }
   ],
   "source": [
    "dati.head(4)"
   ]
  },
  {
   "cell_type": "code",
   "execution_count": 7,
   "id": "bd5dc8de",
   "metadata": {},
   "outputs": [
    {
     "data": {
      "text/html": [
       "<div>\n",
       "<style scoped>\n",
       "    .dataframe tbody tr th:only-of-type {\n",
       "        vertical-align: middle;\n",
       "    }\n",
       "\n",
       "    .dataframe tbody tr th {\n",
       "        vertical-align: top;\n",
       "    }\n",
       "\n",
       "    .dataframe thead th {\n",
       "        text-align: right;\n",
       "    }\n",
       "</style>\n",
       "<table border=\"1\" class=\"dataframe\">\n",
       "  <thead>\n",
       "    <tr style=\"text-align: right;\">\n",
       "      <th></th>\n",
       "      <th>tipologia_ente</th>\n",
       "      <th>regione</th>\n",
       "      <th>num_siti</th>\n",
       "      <th>data_monitoraggio</th>\n",
       "    </tr>\n",
       "  </thead>\n",
       "  <tbody>\n",
       "    <tr>\n",
       "      <th>59</th>\n",
       "      <td>Altre tipologie di Enti</td>\n",
       "      <td>Marche</td>\n",
       "      <td>159</td>\n",
       "      <td>30/06/2023</td>\n",
       "    </tr>\n",
       "    <tr>\n",
       "      <th>60</th>\n",
       "      <td>Istituti di Istruzione Statale di Ogni Ordine ...</td>\n",
       "      <td>Calabria</td>\n",
       "      <td>308</td>\n",
       "      <td>30/06/2023</td>\n",
       "    </tr>\n",
       "    <tr>\n",
       "      <th>61</th>\n",
       "      <td>Istituti di Istruzione Statale di Ogni Ordine ...</td>\n",
       "      <td>Abruzzo</td>\n",
       "      <td>121</td>\n",
       "      <td>30/06/2023</td>\n",
       "    </tr>\n",
       "    <tr>\n",
       "      <th>62</th>\n",
       "      <td>Altre tipologie di Enti</td>\n",
       "      <td>Emilia-Romagna</td>\n",
       "      <td>353</td>\n",
       "      <td>30/06/2023</td>\n",
       "    </tr>\n",
       "  </tbody>\n",
       "</table>\n",
       "</div>"
      ],
      "text/plain": [
       "                                       tipologia_ente         regione  \\\n",
       "59                            Altre tipologie di Enti          Marche   \n",
       "60  Istituti di Istruzione Statale di Ogni Ordine ...        Calabria   \n",
       "61  Istituti di Istruzione Statale di Ogni Ordine ...         Abruzzo   \n",
       "62                            Altre tipologie di Enti  Emilia-Romagna   \n",
       "\n",
       "    num_siti data_monitoraggio  \n",
       "59       159        30/06/2023  \n",
       "60       308        30/06/2023  \n",
       "61       121        30/06/2023  \n",
       "62       353        30/06/2023  "
      ]
     },
     "execution_count": 7,
     "metadata": {},
     "output_type": "execute_result"
    }
   ],
   "source": [
    "dati.tail(4)"
   ]
  },
  {
   "cell_type": "code",
   "execution_count": 8,
   "id": "b094e9fd",
   "metadata": {},
   "outputs": [
    {
     "data": {
      "text/plain": [
       "tipologia_ente       object\n",
       "regione              object\n",
       "num_siti              int64\n",
       "data_monitoraggio    object\n",
       "dtype: object"
      ]
     },
     "execution_count": 8,
     "metadata": {},
     "output_type": "execute_result"
    }
   ],
   "source": [
    "dati.dtypes"
   ]
  },
  {
   "cell_type": "code",
   "execution_count": 9,
   "id": "c4471d7d",
   "metadata": {},
   "outputs": [],
   "source": [
    "dati = dati.astype({'tipologia_ente':'str', 'regione':'str', 'data_monitoraggio':'datetime64[ns]'})"
   ]
  },
  {
   "cell_type": "code",
   "execution_count": 10,
   "id": "e07d6f8b",
   "metadata": {},
   "outputs": [
    {
     "data": {
      "text/plain": [
       "tipologia_ente               object\n",
       "regione                      object\n",
       "num_siti                      int64\n",
       "data_monitoraggio    datetime64[ns]\n",
       "dtype: object"
      ]
     },
     "execution_count": 10,
     "metadata": {},
     "output_type": "execute_result"
    }
   ],
   "source": [
    "dati.dtypes"
   ]
  },
  {
   "cell_type": "code",
   "execution_count": 14,
   "id": "7cd88a43",
   "metadata": {},
   "outputs": [
    {
     "data": {
      "text/html": [
       "<div>\n",
       "<style scoped>\n",
       "    .dataframe tbody tr th:only-of-type {\n",
       "        vertical-align: middle;\n",
       "    }\n",
       "\n",
       "    .dataframe tbody tr th {\n",
       "        vertical-align: top;\n",
       "    }\n",
       "\n",
       "    .dataframe thead th {\n",
       "        text-align: right;\n",
       "    }\n",
       "</style>\n",
       "<table border=\"1\" class=\"dataframe\">\n",
       "  <thead>\n",
       "    <tr style=\"text-align: right;\">\n",
       "      <th></th>\n",
       "      <th>tipologia_ente</th>\n",
       "      <th>regione</th>\n",
       "      <th>num_siti</th>\n",
       "      <th>data_monitoraggio</th>\n",
       "    </tr>\n",
       "  </thead>\n",
       "  <tbody>\n",
       "    <tr>\n",
       "      <th>0</th>\n",
       "      <td>Istituti di Istruzione Statale di Ogni Ordine ...</td>\n",
       "      <td>Valle d'Aosta/Vallée d'Aoste</td>\n",
       "      <td>31</td>\n",
       "      <td>2023-06-30</td>\n",
       "    </tr>\n",
       "    <tr>\n",
       "      <th>1</th>\n",
       "      <td>Comuni e loro Consorzi e Associazioni</td>\n",
       "      <td>Valle d'Aosta/Vallée d'Aoste</td>\n",
       "      <td>65</td>\n",
       "      <td>2023-06-30</td>\n",
       "    </tr>\n",
       "    <tr>\n",
       "      <th>2</th>\n",
       "      <td>Comuni e loro Consorzi e Associazioni</td>\n",
       "      <td>Liguria</td>\n",
       "      <td>207</td>\n",
       "      <td>2023-06-30</td>\n",
       "    </tr>\n",
       "    <tr>\n",
       "      <th>3</th>\n",
       "      <td>Altre tipologie di Enti</td>\n",
       "      <td>Friuli-Venezia Giulia</td>\n",
       "      <td>171</td>\n",
       "      <td>2023-06-30</td>\n",
       "    </tr>\n",
       "    <tr>\n",
       "      <th>4</th>\n",
       "      <td>Comuni e loro Consorzi e Associazioni</td>\n",
       "      <td>Piemonte</td>\n",
       "      <td>986</td>\n",
       "      <td>2023-06-30</td>\n",
       "    </tr>\n",
       "    <tr>\n",
       "      <th>...</th>\n",
       "      <td>...</td>\n",
       "      <td>...</td>\n",
       "      <td>...</td>\n",
       "      <td>...</td>\n",
       "    </tr>\n",
       "    <tr>\n",
       "      <th>58</th>\n",
       "      <td>Comuni e loro Consorzi e Associazioni</td>\n",
       "      <td>Friuli-Venezia Giulia</td>\n",
       "      <td>196</td>\n",
       "      <td>2023-06-30</td>\n",
       "    </tr>\n",
       "    <tr>\n",
       "      <th>59</th>\n",
       "      <td>Altre tipologie di Enti</td>\n",
       "      <td>Marche</td>\n",
       "      <td>159</td>\n",
       "      <td>2023-06-30</td>\n",
       "    </tr>\n",
       "    <tr>\n",
       "      <th>60</th>\n",
       "      <td>Istituti di Istruzione Statale di Ogni Ordine ...</td>\n",
       "      <td>Calabria</td>\n",
       "      <td>308</td>\n",
       "      <td>2023-06-30</td>\n",
       "    </tr>\n",
       "    <tr>\n",
       "      <th>61</th>\n",
       "      <td>Istituti di Istruzione Statale di Ogni Ordine ...</td>\n",
       "      <td>Abruzzo</td>\n",
       "      <td>121</td>\n",
       "      <td>2023-06-30</td>\n",
       "    </tr>\n",
       "    <tr>\n",
       "      <th>62</th>\n",
       "      <td>Altre tipologie di Enti</td>\n",
       "      <td>Emilia-Romagna</td>\n",
       "      <td>353</td>\n",
       "      <td>2023-06-30</td>\n",
       "    </tr>\n",
       "  </tbody>\n",
       "</table>\n",
       "<p>63 rows × 4 columns</p>\n",
       "</div>"
      ],
      "text/plain": [
       "                                       tipologia_ente  \\\n",
       "0   Istituti di Istruzione Statale di Ogni Ordine ...   \n",
       "1               Comuni e loro Consorzi e Associazioni   \n",
       "2               Comuni e loro Consorzi e Associazioni   \n",
       "3                             Altre tipologie di Enti   \n",
       "4               Comuni e loro Consorzi e Associazioni   \n",
       "..                                                ...   \n",
       "58              Comuni e loro Consorzi e Associazioni   \n",
       "59                            Altre tipologie di Enti   \n",
       "60  Istituti di Istruzione Statale di Ogni Ordine ...   \n",
       "61  Istituti di Istruzione Statale di Ogni Ordine ...   \n",
       "62                            Altre tipologie di Enti   \n",
       "\n",
       "                         regione  num_siti data_monitoraggio  \n",
       "0   Valle d'Aosta/Vallée d'Aoste        31        2023-06-30  \n",
       "1   Valle d'Aosta/Vallée d'Aoste        65        2023-06-30  \n",
       "2                        Liguria       207        2023-06-30  \n",
       "3          Friuli-Venezia Giulia       171        2023-06-30  \n",
       "4                       Piemonte       986        2023-06-30  \n",
       "..                           ...       ...               ...  \n",
       "58         Friuli-Venezia Giulia       196        2023-06-30  \n",
       "59                        Marche       159        2023-06-30  \n",
       "60                      Calabria       308        2023-06-30  \n",
       "61                       Abruzzo       121        2023-06-30  \n",
       "62                Emilia-Romagna       353        2023-06-30  \n",
       "\n",
       "[63 rows x 4 columns]"
      ]
     },
     "execution_count": 14,
     "metadata": {},
     "output_type": "execute_result"
    }
   ],
   "source": [
    "dati"
   ]
  },
  {
   "cell_type": "code",
   "execution_count": 11,
   "id": "70bef050",
   "metadata": {},
   "outputs": [
    {
     "name": "stdout",
     "output_type": "stream",
     "text": [
      "                          regione  num_siti\n",
      "0                         Abruzzo       532\n",
      "1                      Basilicata       231\n",
      "2                        Calabria       739\n",
      "3                        Campania      1209\n",
      "4                  Emilia-Romagna      1076\n",
      "5           Friuli-Venezia Giulia       509\n",
      "6                           Lazio      1733\n",
      "7                         Liguria       481\n",
      "8                       Lombardia      3014\n",
      "9                          Marche       540\n",
      "10                         Molise       208\n",
      "11                       Piemonte      1901\n",
      "12  Provincia autonoma di Bolzano       267\n",
      "13   Provincia autonoma di Trento       403\n",
      "14                         Puglia       899\n",
      "15                       Sardegna       707\n",
      "16                        Sicilia      1038\n",
      "17                        Toscana       882\n",
      "18                         Umbria       286\n",
      "19   Valle d'Aosta/Vallée d'Aoste       149\n",
      "20                         Veneto      1459\n"
     ]
    }
   ],
   "source": [
    "# Ragruppa per 'regione' e unisci le righe con la stessa 'regione' aggrega colonna num_siti sommandone i valori\n",
    "merged_df = dati.groupby('regione').agg({'num_siti': 'sum'}).reset_index()\n",
    "\n",
    "\n",
    "print(merged_df)"
   ]
  },
  {
   "cell_type": "code",
   "execution_count": 12,
   "id": "2ac9becd",
   "metadata": {},
   "outputs": [
    {
     "data": {
      "text/plain": [
       "<AxesSubplot:xlabel='regione'>"
      ]
     },
     "execution_count": 12,
     "metadata": {},
     "output_type": "execute_result"
    },
    {
     "data": {
      "image/png": "[encoded data removed]",
      "text/plain": [
       "<Figure size 2500x1000 with 1 Axes>"
      ]
     },
     "metadata": {},
     "output_type": "display_data"
    }
   ],
   "source": [
    "#bar chart\n",
    "merged_df.plot(x='regione', y='num_siti', figsize= (25,10), kind= 'bar',grid=True, colormap= 'Pastel2_r')"
   ]
  },
  {
   "cell_type": "code",
   "execution_count": 13,
   "id": "499dd518",
   "metadata": {},
   "outputs": [
    {
     "data": {
      "text/html": [
       "<div>\n",
       "<style scoped>\n",
       "    .dataframe tbody tr th:only-of-type {\n",
       "        vertical-align: middle;\n",
       "    }\n",
       "\n",
       "    .dataframe tbody tr th {\n",
       "        vertical-align: top;\n",
       "    }\n",
       "\n",
       "    .dataframe thead th {\n",
       "        text-align: right;\n",
       "    }\n",
       "</style>\n",
       "<table border=\"1\" class=\"dataframe\">\n",
       "  <thead>\n",
       "    <tr style=\"text-align: right;\">\n",
       "      <th></th>\n",
       "      <th>regione</th>\n",
       "      <th>num_siti</th>\n",
       "    </tr>\n",
       "  </thead>\n",
       "  <tbody>\n",
       "    <tr>\n",
       "      <th>0</th>\n",
       "      <td>Abruzzo</td>\n",
       "      <td>532</td>\n",
       "    </tr>\n",
       "    <tr>\n",
       "      <th>1</th>\n",
       "      <td>Basilicata</td>\n",
       "      <td>231</td>\n",
       "    </tr>\n",
       "    <tr>\n",
       "      <th>2</th>\n",
       "      <td>Calabria</td>\n",
       "      <td>739</td>\n",
       "    </tr>\n",
       "    <tr>\n",
       "      <th>3</th>\n",
       "      <td>Campania</td>\n",
       "      <td>1209</td>\n",
       "    </tr>\n",
       "    <tr>\n",
       "      <th>4</th>\n",
       "      <td>Emilia-Romagna</td>\n",
       "      <td>1076</td>\n",
       "    </tr>\n",
       "    <tr>\n",
       "      <th>5</th>\n",
       "      <td>Friuli-Venezia Giulia</td>\n",
       "      <td>509</td>\n",
       "    </tr>\n",
       "    <tr>\n",
       "      <th>6</th>\n",
       "      <td>Lazio</td>\n",
       "      <td>1733</td>\n",
       "    </tr>\n",
       "    <tr>\n",
       "      <th>7</th>\n",
       "      <td>Liguria</td>\n",
       "      <td>481</td>\n",
       "    </tr>\n",
       "    <tr>\n",
       "      <th>8</th>\n",
       "      <td>Lombardia</td>\n",
       "      <td>3014</td>\n",
       "    </tr>\n",
       "    <tr>\n",
       "      <th>9</th>\n",
       "      <td>Marche</td>\n",
       "      <td>540</td>\n",
       "    </tr>\n",
       "    <tr>\n",
       "      <th>10</th>\n",
       "      <td>Molise</td>\n",
       "      <td>208</td>\n",
       "    </tr>\n",
       "    <tr>\n",
       "      <th>11</th>\n",
       "      <td>Piemonte</td>\n",
       "      <td>1901</td>\n",
       "    </tr>\n",
       "    <tr>\n",
       "      <th>12</th>\n",
       "      <td>Provincia autonoma di Bolzano</td>\n",
       "      <td>267</td>\n",
       "    </tr>\n",
       "    <tr>\n",
       "      <th>13</th>\n",
       "      <td>Provincia autonoma di Trento</td>\n",
       "      <td>403</td>\n",
       "    </tr>\n",
       "    <tr>\n",
       "      <th>14</th>\n",
       "      <td>Puglia</td>\n",
       "      <td>899</td>\n",
       "    </tr>\n",
       "    <tr>\n",
       "      <th>15</th>\n",
       "      <td>Sardegna</td>\n",
       "      <td>707</td>\n",
       "    </tr>\n",
       "    <tr>\n",
       "      <th>16</th>\n",
       "      <td>Sicilia</td>\n",
       "      <td>1038</td>\n",
       "    </tr>\n",
       "    <tr>\n",
       "      <th>17</th>\n",
       "      <td>Toscana</td>\n",
       "      <td>882</td>\n",
       "    </tr>\n",
       "    <tr>\n",
       "      <th>18</th>\n",
       "      <td>Umbria</td>\n",
       "      <td>286</td>\n",
       "    </tr>\n",
       "    <tr>\n",
       "      <th>19</th>\n",
       "      <td>Valle d'Aosta/Vallée d'Aoste</td>\n",
       "      <td>149</td>\n",
       "    </tr>\n",
       "    <tr>\n",
       "      <th>20</th>\n",
       "      <td>Veneto</td>\n",
       "      <td>1459</td>\n",
       "    </tr>\n",
       "  </tbody>\n",
       "</table>\n",
       "</div>"
      ],
      "text/plain": [
       "                          regione  num_siti\n",
       "0                         Abruzzo       532\n",
       "1                      Basilicata       231\n",
       "2                        Calabria       739\n",
       "3                        Campania      1209\n",
       "4                  Emilia-Romagna      1076\n",
       "5           Friuli-Venezia Giulia       509\n",
       "6                           Lazio      1733\n",
       "7                         Liguria       481\n",
       "8                       Lombardia      3014\n",
       "9                          Marche       540\n",
       "10                         Molise       208\n",
       "11                       Piemonte      1901\n",
       "12  Provincia autonoma di Bolzano       267\n",
       "13   Provincia autonoma di Trento       403\n",
       "14                         Puglia       899\n",
       "15                       Sardegna       707\n",
       "16                        Sicilia      1038\n",
       "17                        Toscana       882\n",
       "18                         Umbria       286\n",
       "19   Valle d'Aosta/Vallée d'Aoste       149\n",
       "20                         Veneto      1459"
      ]
     },
     "execution_count": 13,
     "metadata": {},
     "output_type": "execute_result"
    }
   ],
   "source": [
    "#pie chart\n",
    "merged_df"
   ]
  }
 ],
 "metadata": {
  "kernelspec": {
   "display_name": "scikit-learn",
   "language": "python",
   "name": "scikit-learn"
  },
  "language_info": {
   "codemirror_mode": {
    "name": "ipython",
    "version": 3
   },
   "file_extension": ".py",
   "mimetype": "text/x-python",
   "name": "python",
   "nbconvert_exporter": "python",
   "pygments_lexer": "ipython3",
   "version": "3.7.16"
  }
 },
 "nbformat": 4,
 "nbformat_minor": 5
}
